{
 "cells": [
  {
   "cell_type": "markdown",
   "id": "e2acb377",
   "metadata": {},
   "source": [
    "1. Обучите любую модель классификации на датасете IRIS до применения PCA и после него. Сравните качество классификации по отложенной выборке."
   ]
  },
  {
   "cell_type": "code",
   "execution_count": 59,
   "id": "42a333cc",
   "metadata": {},
   "outputs": [],
   "source": [
    "import numpy as np\n",
    "\n",
    "from sklearn import datasets\n",
    "from sklearn.linear_model import LogisticRegression\n",
    "from sklearn.metrics import accuracy_score\n",
    "from sklearn.model_selection import train_test_split\n",
    "\n",
    "import matplotlib.pyplot as plt\n",
    "%matplotlib inline"
   ]
  },
  {
   "cell_type": "code",
   "execution_count": 60,
   "id": "10056f3f",
   "metadata": {},
   "outputs": [],
   "source": [
    "def standard_scale(x):\n",
    "    res = (x - x.mean(axis=0)) / x.std(axis=0)\n",
    "    return res"
   ]
  },
  {
   "cell_type": "code",
   "execution_count": 61,
   "id": "2627c96c",
   "metadata": {},
   "outputs": [
    {
     "data": {
      "text/plain": [
       "((150, 4), (150,))"
      ]
     },
     "execution_count": 61,
     "metadata": {},
     "output_type": "execute_result"
    }
   ],
   "source": [
    "iris = datasets.load_iris()\n",
    "\n",
    "X = iris.data\n",
    "y = iris.target\n",
    "\n",
    "X = X.astype(float)\n",
    "\n",
    "X.shape, y.shape"
   ]
  },
  {
   "cell_type": "code",
   "execution_count": 62,
   "id": "53f06d3d",
   "metadata": {},
   "outputs": [
    {
     "data": {
      "text/plain": [
       "((112, 4), (112,))"
      ]
     },
     "execution_count": 62,
     "metadata": {},
     "output_type": "execute_result"
    }
   ],
   "source": [
    "X_train, X_test, y_train, y_test = train_test_split(X, y, random_state=7)\n",
    "X_train.shape, y_train.shape"
   ]
  },
  {
   "cell_type": "code",
   "execution_count": 63,
   "id": "b454bdfd",
   "metadata": {},
   "outputs": [],
   "source": [
    "X_train = standard_scale(X_train)\n",
    "X_test = standard_scale(X_test)"
   ]
  },
  {
   "cell_type": "code",
   "execution_count": 64,
   "id": "da06cf7b",
   "metadata": {},
   "outputs": [
    {
     "name": "stdout",
     "output_type": "stream",
     "text": [
      "Accuracy до понижения размерности данных: 0.8947368421052632\n"
     ]
    }
   ],
   "source": [
    "lr = LogisticRegression()\n",
    "\n",
    "lr.fit(X_train, y_train)\n",
    "\n",
    "y_pred = lr.predict(X_test)\n",
    "\n",
    "print(f'Accuracy до понижения размерности данных: {accuracy_score(y_test, y_pred)}')"
   ]
  },
  {
   "cell_type": "code",
   "execution_count": 65,
   "id": "01ac387f",
   "metadata": {},
   "outputs": [
    {
     "name": "stdout",
     "output_type": "stream",
     "text": [
      "Собственные значения и собственные векторы в порядке убывания:\n",
      "(9208.305070314851, array([0.75110816, 0.38008617, 0.51300886, 0.16790754]))\n",
      "(315.4543165767582, array([ 0.2841749 ,  0.5467445 , -0.70866455, -0.34367081]))\n",
      "(11.978042904910822, array([ 0.50215472, -0.67524332, -0.05916621, -0.53701625]))\n",
      "(3.552570203480874, array([ 0.32081425, -0.31725607, -0.48074507,  0.75187165]))\n"
     ]
    }
   ],
   "source": [
    "# Найдем собственные векторы и собственные значения \n",
    "covariance_matrix = X.T @ X\n",
    "eig_values, eig_vectors = np.linalg.eig(covariance_matrix)\n",
    "\n",
    "# сформируем список кортежей (собственное значение, собственный вектор)\n",
    "eig_pairs = [(np.abs(eig_values[i]), eig_vectors[:, i]) for i in range(len(eig_values))]\n",
    "\n",
    "# и отсортируем список по убыванию собственных значений\n",
    "eig_pairs.sort(key=lambda x: x[0], reverse=True)\n",
    "\n",
    "print('Собственные значения и собственные векторы в порядке убывания:')\n",
    "for i in eig_pairs:\n",
    "    print(i)"
   ]
  },
  {
   "cell_type": "code",
   "execution_count": 66,
   "id": "5c1f2351",
   "metadata": {},
   "outputs": [
    {
     "name": "stdout",
     "output_type": "stream",
     "text": [
      "Доля дисперсии, описываемая каждой из компонент \n",
      "[96.53029806531566, 3.3068951313646835, 0.12556535030291374, 0.037241453016743115]\n",
      "Кумулятивная доля дисперсии по компонентам \n",
      "[ 96.53029807  99.8371932   99.96275855 100.        ]\n"
     ]
    }
   ],
   "source": [
    "# Оценим долю дисперсии, которая описывается найденными компонентами.\n",
    "eig_sum = sum(eig_values)\n",
    "var_exp = [(i / eig_sum) * 100 for i in sorted(eig_values, reverse=True)]\n",
    "print(f'Доля дисперсии, описываемая каждой из компонент \\n{var_exp}')\n",
    "\n",
    "# а теперь оценим кумулятивную (то есть накапливаемую) дисперсию при учитывании каждой из компонент\n",
    "cum_var_exp = np.cumsum(var_exp)\n",
    "print(f'Кумулятивная доля дисперсии по компонентам \\n{cum_var_exp}')"
   ]
  },
  {
   "cell_type": "code",
   "execution_count": 67,
   "id": "c89192a6",
   "metadata": {},
   "outputs": [
    {
     "name": "stdout",
     "output_type": "stream",
     "text": [
      "Матрица весов W:\n",
      " [[ 0.75110816  0.2841749 ]\n",
      " [ 0.38008617  0.5467445 ]\n",
      " [ 0.51300886 -0.70866455]\n",
      " [ 0.16790754 -0.34367081]]\n"
     ]
    }
   ],
   "source": [
    "# Мы отбросим последние две компоненты, оставив первые две.\n",
    "\n",
    "# Сформируем вектор весов из собственных векторов, соответствующих первым двум главным компонентам\n",
    "W = np.hstack([eig_pairs[i][1].reshape(4,1) for i in range(2)])\n",
    "print(f'Матрица весов W:\\n', W)"
   ]
  },
  {
   "cell_type": "code",
   "execution_count": 68,
   "id": "fbf9a383",
   "metadata": {},
   "outputs": [
    {
     "data": {
      "text/plain": [
       "(150, 2)"
      ]
     },
     "execution_count": 68,
     "metadata": {},
     "output_type": "execute_result"
    }
   ],
   "source": [
    "# Сформируем новую матрицу \"объекты-признаки\"\n",
    "Z = X.dot(W)\n",
    "Z.shape"
   ]
  },
  {
   "cell_type": "code",
   "execution_count": 69,
   "id": "64b7a061",
   "metadata": {},
   "outputs": [
    {
     "data": {
      "image/png": "[encoded data removed]",
      "text/plain": [
       "<Figure size 432x288 with 1 Axes>"
      ]
     },
     "metadata": {
      "needs_background": "light"
     },
     "output_type": "display_data"
    }
   ],
   "source": [
    "plt.figure()\n",
    "for c, i in zip(\"rgb\", [0, 1, 2]):\n",
    "    plt.scatter(Z[y == i, 0], Z[y == i, 1], c=c)\n",
    "plt.xlabel('Главная компонента 1')\n",
    "plt.ylabel('Главная компонента 2')\n",
    "plt.title('PCA датасета IRIS')\n",
    "plt.show()"
   ]
  },
  {
   "cell_type": "code",
   "execution_count": 70,
   "id": "aa90c04f",
   "metadata": {},
   "outputs": [
    {
     "data": {
      "text/plain": [
       "((112, 2), (112,))"
      ]
     },
     "execution_count": 70,
     "metadata": {},
     "output_type": "execute_result"
    }
   ],
   "source": [
    "Z_train, Z_test, y_train, y_test = train_test_split(Z, y, random_state=7)\n",
    "Z_train.shape, y_train.shape"
   ]
  },
  {
   "cell_type": "code",
   "execution_count": 71,
   "id": "c1bb0936",
   "metadata": {},
   "outputs": [
    {
     "name": "stdout",
     "output_type": "stream",
     "text": [
      "Accuracy после понижения размерности данных: 0.8947368421052632\n"
     ]
    }
   ],
   "source": [
    "lr_after_pca = LogisticRegression()\n",
    "\n",
    "lr_after_pca.fit(Z_train, y_train)\n",
    "\n",
    "y_pred_after_pca = lr_after_pca.predict(Z_test)\n",
    "\n",
    "print(f'Accuracy после понижения размерности данных: {accuracy_score(y_test, y_pred)}')"
   ]
  },
  {
   "cell_type": "code",
   "execution_count": 72,
   "id": "2bcca948",
   "metadata": {},
   "outputs": [],
   "source": [
    "# Accuracy до понижения размерности данных:  0.8947368421052632\n",
    "# Вывод: метрику улучшить не удалось, поэтому лучше делать предсказания на всех данных, не снижая их размерности\n"
   ]
  },
  {
   "cell_type": "markdown",
   "id": "c2774fa8",
   "metadata": {},
   "source": [
    "2. Напишите свою реализацию метода главных компонент посредством сингулярного разложения с использованием функции numpy.linalg.svd()."
   ]
  },
  {
   "cell_type": "code",
   "execution_count": 73,
   "id": "e44073de",
   "metadata": {},
   "outputs": [
    {
     "data": {
      "text/plain": [
       "((150, 4), (150,))"
      ]
     },
     "execution_count": 73,
     "metadata": {},
     "output_type": "execute_result"
    }
   ],
   "source": [
    "iris = datasets.load_iris()\n",
    "\n",
    "X = iris.data\n",
    "y = iris.target\n",
    "\n",
    "X = X.astype(float)\n",
    "X = standard_scale(X)\n",
    "\n",
    "X.shape, y.shape"
   ]
  },
  {
   "cell_type": "markdown",
   "id": "55faaea9",
   "metadata": {},
   "source": [
    " Вспомним, что сингулярное разложение матрицы - это разложение вида\n",
    "\n",
    "$$X=UDV^{T},$$\n",
    "\n",
    "- столбцы ортогональной матрицы $U$ - это собственные векторы матрицы $XX^{T}$\n",
    "- столбцы ортогональной матрицы $V$ - собственные векторы матрицы $X^{T}X$\n",
    "- на главной диагонали диагональной матрицы $D$ расположены собственные значения матриц $XX^{T}$ и $X^{T}X$ (они равны и также называются сингулярными числами матрицы $X$).\n",
    "\n",
    "Для реализации понижения размерности методом главных компонент с помощью SVD нужно:\n",
    "- найти сингулярное разложение $X^TX$;\n",
    "- сформировать из столбцов матрицы $V$, соответствующих $d$ наибольшим сингулярным числам, матрицу весов $W$;\n",
    "- получить новую матрицу \"объекты-признаки\", умножив исходную матрицу $X$ на матрицу весов $W$:\n",
    "\n",
    "$$Z=XW.$$"
   ]
  },
  {
   "cell_type": "code",
   "execution_count": 99,
   "id": "ec3cac4c",
   "metadata": {},
   "outputs": [
    {
     "data": {
      "text/plain": [
       "True"
      ]
     },
     "execution_count": 99,
     "metadata": {},
     "output_type": "execute_result"
    }
   ],
   "source": [
    "covariance_matrix = X.T @ X\n",
    "U, s, V_T = np.linalg.svd(covariance_matrix, full_matrices=False)\n",
    "D = np.diag(s)\n",
    "\n",
    "np.allclose(covariance_matrix, np.dot(U, np.dot(D, V_T)))"
   ]
  },
  {
   "cell_type": "code",
   "execution_count": 100,
   "id": "7a04f77a",
   "metadata": {},
   "outputs": [
    {
     "data": {
      "text/plain": [
       "array([[437.77467248,   0.        ,   0.        ,   0.        ],\n",
       "       [  0.        , 137.10457072,   0.        ,   0.        ],\n",
       "       [  0.        ,   0.        ,  22.01353134,   0.        ],\n",
       "       [  0.        ,   0.        ,   0.        ,   3.10722546]])"
      ]
     },
     "execution_count": 100,
     "metadata": {},
     "output_type": "execute_result"
    }
   ],
   "source": [
    "D"
   ]
  },
  {
   "cell_type": "code",
   "execution_count": 104,
   "id": "fda9c3b3",
   "metadata": {},
   "outputs": [
    {
     "data": {
      "text/plain": [
       "(4, 4)"
      ]
     },
     "execution_count": 104,
     "metadata": {},
     "output_type": "execute_result"
    }
   ],
   "source": [
    "V_T.shape"
   ]
  },
  {
   "cell_type": "code",
   "execution_count": 118,
   "id": "c5358fac",
   "metadata": {},
   "outputs": [
    {
     "data": {
      "text/plain": [
       "array([[-0.52106591, -0.37741762],\n",
       "       [ 0.26934744, -0.92329566],\n",
       "       [-0.5804131 , -0.02449161],\n",
       "       [-0.56485654, -0.06694199]])"
      ]
     },
     "execution_count": 118,
     "metadata": {},
     "output_type": "execute_result"
    }
   ],
   "source": [
    "d = 2\n",
    "W = np.hstack([V_T[i].reshape(4, 1)for i in range(d)])\n",
    "W"
   ]
  },
  {
   "cell_type": "code",
   "execution_count": 119,
   "id": "5b6c987a",
   "metadata": {},
   "outputs": [
    {
     "data": {
      "text/plain": [
       "(150, 2)"
      ]
     },
     "execution_count": 119,
     "metadata": {},
     "output_type": "execute_result"
    }
   ],
   "source": [
    "Z = np.dot(X, W)\n",
    "Z.shape"
   ]
  }
 ],
 "metadata": {
  "kernelspec": {
   "display_name": "Python 3 (ipykernel)",
   "language": "python",
   "name": "python3"
  },
  "language_info": {
   "codemirror_mode": {
    "name": "ipython",
    "version": 3
   },
   "file_extension": ".py",
   "mimetype": "text/x-python",
   "name": "python",
   "nbconvert_exporter": "python",
   "pygments_lexer": "ipython3",
   "version": "3.9.7"
  }
 },
 "nbformat": 4,
 "nbformat_minor": 5
}
