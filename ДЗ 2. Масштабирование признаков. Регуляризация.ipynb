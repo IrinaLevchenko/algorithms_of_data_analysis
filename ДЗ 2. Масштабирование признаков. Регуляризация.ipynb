{
 "cells": [
  {
   "cell_type": "markdown",
   "id": "45a29fac",
   "metadata": {},
   "source": [
    "1. Постройте график зависимости весов всех признаков от lambda в L2-регуляризации на основе данных из урока.\n"
   ]
  },
  {
   "cell_type": "code",
   "execution_count": 72,
   "id": "c2a624ee",
   "metadata": {},
   "outputs": [],
   "source": [
    "import numpy as np\n",
    "import matplotlib.pyplot as plt\n",
    "from sklearn.linear_model import Ridge\n",
    "\n",
    "%matplotlib inline"
   ]
  },
  {
   "cell_type": "markdown",
   "id": "c02736a7",
   "metadata": {},
   "source": [
    "__Задача:__ предсказание баллов ЕГЭ ученика"
   ]
  },
  {
   "cell_type": "code",
   "execution_count": 73,
   "id": "883cce40",
   "metadata": {},
   "outputs": [],
   "source": [
    "def calc_mse(y, y_pred):\n",
    "    return (np.mean((y - y_pred)**2))\n",
    "\n",
    "\n",
    "def standard_scale(X):\n",
    "    return ((X - X.mean()) / X.std())"
   ]
  },
  {
   "cell_type": "code",
   "execution_count": 74,
   "id": "f11f9d14",
   "metadata": {},
   "outputs": [],
   "source": [
    "X = np.array([[   1,    1,  500,    1],\n",
    "              [   1,    1,  700,    1],\n",
    "              [   1,    2,  750,    2],\n",
    "              [   1,    5,  600,    1],\n",
    "              [   1,    3, 1450,    2],\n",
    "              [   1,    0,  800,    1],\n",
    "              [   1,    5, 1500,    3],\n",
    "              [   1,   10, 2000,    3],\n",
    "              [   1,    1,  450,    1],\n",
    "              [   1,    2, 1000,    2]])\n",
    "y = np.array([45, 55, 50, 55, 60, 35, 75, 80, 50, 60])"
   ]
  },
  {
   "cell_type": "code",
   "execution_count": 88,
   "id": "7dec98c5",
   "metadata": {},
   "outputs": [
    {
     "data": {
      "text/plain": [
       "(40,\n",
       " array([[ 1.        , -0.70710678, -0.97958969, -0.89625816],\n",
       "        [ 1.        , -0.70710678, -0.56713087, -0.89625816],\n",
       "        [ 1.        , -0.35355339, -0.46401617,  0.38411064],\n",
       "        [ 1.        ,  0.70710678, -0.77336028, -0.89625816],\n",
       "        [ 1.        ,  0.        ,  0.97958969,  0.38411064],\n",
       "        [ 1.        , -1.06066017, -0.36090146, -0.89625816],\n",
       "        [ 1.        ,  0.70710678,  1.08270439,  1.66447944],\n",
       "        [ 1.        ,  2.47487373,  2.11385144,  1.66447944],\n",
       "        [ 1.        , -0.70710678, -1.08270439, -0.89625816],\n",
       "        [ 1.        , -0.35355339,  0.05155735,  0.38411064]]))"
      ]
     },
     "execution_count": 88,
     "metadata": {},
     "output_type": "execute_result"
    }
   ],
   "source": [
    "X_st = X.copy().astype(np.float64)\n",
    " \n",
    "X_st[:, 1] = standard_scale(X_st[:, 1])\n",
    "X_st[:, 2] = standard_scale(X_st[:, 2])\n",
    "X_st[:, 3] = standard_scale(X_st[:, 3])\n",
    "\n",
    "X_st.size, X_st"
   ]
  },
  {
   "cell_type": "code",
   "execution_count": 93,
   "id": "55f1e9f8",
   "metadata": {},
   "outputs": [
    {
     "data": {
      "image/png": "[encoded data removed]",
      "text/plain": [
       "<Figure size 432x288 with 1 Axes>"
      ]
     },
     "metadata": {
      "needs_background": "light"
     },
     "output_type": "display_data"
    }
   ],
   "source": [
    "train_amount = int( X_st.size / 10 )\n",
    "train_X = X_st[:train_amount]\n",
    "train_y = y[:train_amount]\n",
    "test_X = X_st[train_amount:]\n",
    "test_y = y[train_amount:]\n",
    "\n",
    "coeffs = np.zeros(( X_st.size, train_X.shape[1]))\n",
    "alpha_list = np.logspace(-3, 2,  X_st.size)\n",
    "\n",
    "for i, val in enumerate(alpha_list):\n",
    "    ridge = Ridge(alpha=val, fit_intercept=False)\n",
    "    ridge.fit(train_X, train_y)\n",
    "    \n",
    "    coeffs[i, :] = ridge.coef_.flatten()\n",
    "\n",
    "for i in range(train_X.shape[1]):\n",
    "    plt.plot(alpha_list, coeffs[:, i])\n",
    "\n",
    "plt.title('Зависимость значений весов признаков\\n от значений коэффициента L2-регуляризации alpha (модель Ridge)')\n",
    "plt.xticks(np.arange(0, 101, 10))\n",
    "plt.xlabel('alpha')\n",
    "plt.ylabel('Вес признака');\n"
   ]
  },
  {
   "cell_type": "markdown",
   "id": "885c8e9b",
   "metadata": {},
   "source": [
    "2. Можно ли к одному и тому же признаку применить сразу и нормализацию, и стандартизацию?"
   ]
  },
  {
   "cell_type": "code",
   "execution_count": 100,
   "id": "853cb52a",
   "metadata": {},
   "outputs": [],
   "source": [
    "def min_max_scale(X):\n",
    "    return (X - X.min()) / (X.max() - X.min())\n",
    "\n",
    "\n",
    "def standard_scale(X):\n",
    "    return ((X - X.mean()) / X.std())"
   ]
  },
  {
   "cell_type": "code",
   "execution_count": 101,
   "id": "621f4697",
   "metadata": {},
   "outputs": [],
   "source": [
    "X_norm = X.copy().astype(np.float64)\n",
    "X_norm[:, 1] = min_max_scale(X_norm[:, 1])\n",
    "X_norm[:, 2] = min_max_scale(X_norm[:, 2])\n",
    "X_norm[:, 3] = min_max_scale(X_norm[:, 3])\n",
    "\n",
    "X_st = X.copy().astype(np.float64) \n",
    "X_st[:, 1] = standard_scale(X_st[:, 1])\n",
    "X_st[:, 2] = standard_scale(X_st[:, 2])\n",
    "X_st[:, 3] = standard_scale(X_st[:, 3])\n"
   ]
  },
  {
   "cell_type": "code",
   "execution_count": 99,
   "id": "33273cd8",
   "metadata": {},
   "outputs": [
    {
     "data": {
      "text/plain": [
       "(array([[   1,    1,  500,    1],\n",
       "        [   1,    1,  700,    1],\n",
       "        [   1,    2,  750,    2],\n",
       "        [   1,    5,  600,    1],\n",
       "        [   1,    3, 1450,    2],\n",
       "        [   1,    0,  800,    1],\n",
       "        [   1,    5, 1500,    3],\n",
       "        [   1,   10, 2000,    3],\n",
       "        [   1,    1,  450,    1],\n",
       "        [   1,    2, 1000,    2]]),\n",
       " array([[ 1.        , -0.70710678, -0.97958969, -0.89625816],\n",
       "        [ 1.        , -0.70710678, -0.56713087, -0.89625816],\n",
       "        [ 1.        , -0.35355339, -0.46401617,  0.38411064],\n",
       "        [ 1.        ,  0.70710678, -0.77336028, -0.89625816],\n",
       "        [ 1.        ,  0.        ,  0.97958969,  0.38411064],\n",
       "        [ 1.        , -1.06066017, -0.36090146, -0.89625816],\n",
       "        [ 1.        ,  0.70710678,  1.08270439,  1.66447944],\n",
       "        [ 1.        ,  2.47487373,  2.11385144,  1.66447944],\n",
       "        [ 1.        , -0.70710678, -1.08270439, -0.89625816],\n",
       "        [ 1.        , -0.35355339,  0.05155735,  0.38411064]]),\n",
       " array([[1.        , 0.1       , 0.03225806, 0.        ],\n",
       "        [1.        , 0.1       , 0.16129032, 0.        ],\n",
       "        [1.        , 0.2       , 0.19354839, 0.5       ],\n",
       "        [1.        , 0.5       , 0.09677419, 0.        ],\n",
       "        [1.        , 0.3       , 0.64516129, 0.5       ],\n",
       "        [1.        , 0.        , 0.22580645, 0.        ],\n",
       "        [1.        , 0.5       , 0.67741935, 1.        ],\n",
       "        [1.        , 1.        , 1.        , 1.        ],\n",
       "        [1.        , 0.1       , 0.        , 0.        ],\n",
       "        [1.        , 0.2       , 0.35483871, 0.5       ]]))"
      ]
     },
     "execution_count": 99,
     "metadata": {},
     "output_type": "execute_result"
    }
   ],
   "source": [
    "X, X_st, X_norm"
   ]
  },
  {
   "cell_type": "code",
   "execution_count": 116,
   "id": "9629ed1c",
   "metadata": {},
   "outputs": [
    {
     "data": {
      "text/plain": [
       "(array([[ 1.00000000e+00, -7.07106781e-01, -9.79589689e-01,\n",
       "         -8.96258160e-01],\n",
       "        [ 1.00000000e+00, -7.07106781e-01, -5.67130873e-01,\n",
       "         -8.96258160e-01],\n",
       "        [ 1.00000000e+00, -3.53553391e-01, -4.64016169e-01,\n",
       "          3.84110640e-01],\n",
       "        [ 1.00000000e+00,  7.07106781e-01, -7.73360281e-01,\n",
       "         -8.96258160e-01],\n",
       "        [ 1.00000000e+00, -1.96261557e-16,  9.79589689e-01,\n",
       "          3.84110640e-01],\n",
       "        [ 1.00000000e+00, -1.06066017e+00, -3.60901465e-01,\n",
       "         -8.96258160e-01],\n",
       "        [ 1.00000000e+00,  7.07106781e-01,  1.08270439e+00,\n",
       "          1.66447944e+00],\n",
       "        [ 1.00000000e+00,  2.47487373e+00,  2.11385144e+00,\n",
       "          1.66447944e+00],\n",
       "        [ 1.00000000e+00, -7.07106781e-01, -1.08270439e+00,\n",
       "         -8.96258160e-01],\n",
       "        [ 1.00000000e+00, -3.53553391e-01,  5.15573521e-02,\n",
       "          3.84110640e-01]]),\n",
       " array([[ 1.        , -0.70710678, -0.97958969, -0.89625816],\n",
       "        [ 1.        , -0.70710678, -0.56713087, -0.89625816],\n",
       "        [ 1.        , -0.35355339, -0.46401617,  0.38411064],\n",
       "        [ 1.        ,  0.70710678, -0.77336028, -0.89625816],\n",
       "        [ 1.        ,  0.        ,  0.97958969,  0.38411064],\n",
       "        [ 1.        , -1.06066017, -0.36090146, -0.89625816],\n",
       "        [ 1.        ,  0.70710678,  1.08270439,  1.66447944],\n",
       "        [ 1.        ,  2.47487373,  2.11385144,  1.66447944],\n",
       "        [ 1.        , -0.70710678, -1.08270439, -0.89625816],\n",
       "        [ 1.        , -0.35355339,  0.05155735,  0.38411064]]))"
      ]
     },
     "execution_count": 116,
     "metadata": {},
     "output_type": "execute_result"
    }
   ],
   "source": [
    "X_norm_st = X_norm.copy().astype(np.float64)\n",
    "X_norm_st[:, 1] = standard_scale(X_norm_st[:, 1])\n",
    "X_norm_st[:, 2] = standard_scale(X_norm_st[:, 2])\n",
    "X_norm_st[:, 3] = standard_scale(X_norm_st[:, 3])\n",
    "X_norm_st, X_st"
   ]
  },
  {
   "cell_type": "code",
   "execution_count": 119,
   "id": "c09e2c4f",
   "metadata": {},
   "outputs": [
    {
     "data": {
      "text/plain": [
       "(array([[1.        , 0.1       , 0.03225806, 0.        ],\n",
       "        [1.        , 0.1       , 0.16129032, 0.        ],\n",
       "        [1.        , 0.2       , 0.19354839, 0.5       ],\n",
       "        [1.        , 0.5       , 0.09677419, 0.        ],\n",
       "        [1.        , 0.3       , 0.64516129, 0.5       ],\n",
       "        [1.        , 0.        , 0.22580645, 0.        ],\n",
       "        [1.        , 0.5       , 0.67741935, 1.        ],\n",
       "        [1.        , 1.        , 1.        , 1.        ],\n",
       "        [1.        , 0.1       , 0.        , 0.        ],\n",
       "        [1.        , 0.2       , 0.35483871, 0.5       ]]),\n",
       " array([[1.        , 0.1       , 0.03225806, 0.        ],\n",
       "        [1.        , 0.1       , 0.16129032, 0.        ],\n",
       "        [1.        , 0.2       , 0.19354839, 0.5       ],\n",
       "        [1.        , 0.5       , 0.09677419, 0.        ],\n",
       "        [1.        , 0.3       , 0.64516129, 0.5       ],\n",
       "        [1.        , 0.        , 0.22580645, 0.        ],\n",
       "        [1.        , 0.5       , 0.67741935, 1.        ],\n",
       "        [1.        , 1.        , 1.        , 1.        ],\n",
       "        [1.        , 0.1       , 0.        , 0.        ],\n",
       "        [1.        , 0.2       , 0.35483871, 0.5       ]]))"
      ]
     },
     "execution_count": 119,
     "metadata": {},
     "output_type": "execute_result"
    }
   ],
   "source": [
    "X_st_norm = X_st.copy().astype(np.float64)\n",
    "X_st_norm[:, 1] = min_max_scale(X_st_norm[:, 1])\n",
    "X_st_norm[:, 2] = min_max_scale(X_st_norm[:, 2])\n",
    "X_st_norm[:, 3] = min_max_scale(X_st_norm[:, 3])\n",
    "X_st_norm, X_norm"
   ]
  },
  {
   "cell_type": "markdown",
   "id": "7d3eec9d",
   "metadata": {},
   "source": [
    "Вывод: не имеет смысла применять и стандартизацию, и нормализацию к одним и тем же признакам."
   ]
  },
  {
   "cell_type": "markdown",
   "id": "12ede5c4",
   "metadata": {},
   "source": [
    "3. Напишите функцию наподобие eval_model_reg2, но для применения L1-регуляризации. (!Такой функции в уроке не было. Беру задание из прилагающейся методички!)\n",
    "   \n",
    "   Напишите функцию наподобие gradient_descent_reg_l2, но для применения L1-регуляризации."
   ]
  },
  {
   "cell_type": "code",
   "execution_count": 120,
   "id": "d3238cb2",
   "metadata": {},
   "outputs": [],
   "source": [
    "def gradient_descent_reg_l1(X, y, iterations, eta=1e-4, reg=1e-8):\n",
    "    W = np.random.randn(X.shape[1])\n",
    "    n = X.shape[0]\n",
    "    \n",
    "    for i in range(0, iterations):\n",
    "        y_pred = np.dot(X, W)\n",
    "        err = calc_mse(y, y_pred)\n",
    "        \n",
    "        dQ = 2/n * X.T @ (y_pred - y) \n",
    "        dReg = reg * (W / np.abs(W)) \n",
    "        \n",
    "        W -= eta * (dQ + dReg)\n",
    "        \n",
    "        if i % (iterations / 10) == 0:\n",
    "            print(f'Iter: {i}, weights: {W}, error {err}')\n",
    "    \n",
    "    print(f'Final MSE: {calc_mse(y, np.dot(X, W))}')\n",
    "    return W"
   ]
  },
  {
   "cell_type": "code",
   "execution_count": 121,
   "id": "95cae5f6",
   "metadata": {},
   "outputs": [
    {
     "name": "stdout",
     "output_type": "stream",
     "text": [
      "Iter: 0, weights: [ 0.91168319 -0.0694062  -1.28360277 -0.73042177], error 3299.9102440426564\n",
      "Iter: 500, weights: [ 6.20211399  1.0255503  -0.1942438   0.39358584], error 2666.053747620309\n",
      "Iter: 1000, weights: [10.98904586  1.87707691  0.63544193  1.26327654], error 2163.564853010055\n",
      "Iter: 1500, weights: [15.32039762  2.54076335  1.26508725  1.93695554], error 1761.9464450132218\n",
      "Iter: 2000, weights: [19.23952756  3.05946772  1.74065957  2.45956682], error 1438.9414183943722\n",
      "Iter: 2500, weights: [22.78566751  3.46623342  2.09759193  2.86575453], error 1177.9387779139831\n",
      "Iter: 3000, weights: [25.99431554  3.78653777  2.3631967   3.18222296], error 966.2963351886843\n",
      "Iter: 3500, weights: [28.8975913   4.04002535  2.55852621  3.42955578], error 794.232729035196\n",
      "Iter: 4000, weights: [31.52455757  4.24184433  2.69980712  3.62361848], error 654.077934745655\n",
      "Iter: 4500, weights: [33.90151117  4.40367649  2.79954613  3.77663946], error 539.7533168668417\n",
      "Final MSE: 446.4016059301537\n"
     ]
    },
    {
     "data": {
      "text/plain": [
       "array([36.04815585,  4.53429567,  2.8672732 ,  3.89782707])"
      ]
     },
     "execution_count": 121,
     "metadata": {},
     "output_type": "execute_result"
    }
   ],
   "source": [
    "gradient_descent_reg_l1(X_st, y, iterations=5000)"
   ]
  },
  {
   "cell_type": "code",
   "execution_count": null,
   "id": "a615a6ed",
   "metadata": {},
   "outputs": [],
   "source": []
  }
 ],
 "metadata": {
  "kernelspec": {
   "display_name": "Python 3 (ipykernel)",
   "language": "python",
   "name": "python3"
  },
  "language_info": {
   "codemirror_mode": {
    "name": "ipython",
    "version": 3
   },
   "file_extension": ".py",
   "mimetype": "text/x-python",
   "name": "python",
   "nbconvert_exporter": "python",
   "pygments_lexer": "ipython3",
   "version": "3.9.7"
  }
 },
 "nbformat": 4,
 "nbformat_minor": 5
}
